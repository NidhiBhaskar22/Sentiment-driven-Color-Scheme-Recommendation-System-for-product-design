{
  "nbformat": 4,
  "nbformat_minor": 0,
  "metadata": {
    "colab": {
      "provenance": []
    },
    "kernelspec": {
      "name": "python3",
      "display_name": "Python 3"
    },
    "language_info": {
      "name": "python"
    }
  },
  "cells": [
    {
      "cell_type": "code",
      "source": [
        "!pip install nrclex"
      ],
      "metadata": {
        "colab": {
          "base_uri": "https://localhost:8080/"
        },
        "id": "G8AHE9A30NbB",
        "outputId": "c5b84839-d523-4d91-e75e-3ff3d4afb8c8"
      },
      "execution_count": 1,
      "outputs": [
        {
          "output_type": "stream",
          "name": "stdout",
          "text": [
            "Collecting nrclex\n",
            "  Downloading NRCLex-4.0-py3-none-any.whl.metadata (3.2 kB)\n",
            "Requirement already satisfied: textblob in /usr/local/lib/python3.10/dist-packages (from nrclex) (0.17.1)\n",
            "INFO: pip is looking at multiple versions of nrclex to determine which version is compatible with other requirements. This could take a while.\n",
            "  Downloading NRCLex-3.0.0.tar.gz (396 kB)\n",
            "\u001b[2K     \u001b[90m━━━━━━━━━━━━━━━━━━━━━━━━━━━━━━━━━━━━━━━━\u001b[0m \u001b[32m396.4/396.4 kB\u001b[0m \u001b[31m6.8 MB/s\u001b[0m eta \u001b[36m0:00:00\u001b[0m\n",
            "\u001b[?25h  Preparing metadata (setup.py) ... \u001b[?25l\u001b[?25hdone\n",
            "Requirement already satisfied: nltk>=3.1 in /usr/local/lib/python3.10/dist-packages (from textblob->nrclex) (3.8.1)\n",
            "Requirement already satisfied: click in /usr/local/lib/python3.10/dist-packages (from nltk>=3.1->textblob->nrclex) (8.1.7)\n",
            "Requirement already satisfied: joblib in /usr/local/lib/python3.10/dist-packages (from nltk>=3.1->textblob->nrclex) (1.4.2)\n",
            "Requirement already satisfied: regex>=2021.8.3 in /usr/local/lib/python3.10/dist-packages (from nltk>=3.1->textblob->nrclex) (2024.9.11)\n",
            "Requirement already satisfied: tqdm in /usr/local/lib/python3.10/dist-packages (from nltk>=3.1->textblob->nrclex) (4.66.6)\n",
            "Building wheels for collected packages: nrclex\n",
            "  Building wheel for nrclex (setup.py) ... \u001b[?25l\u001b[?25hdone\n",
            "  Created wheel for nrclex: filename=NRCLex-3.0.0-py3-none-any.whl size=43308 sha256=96a3af257d9afe2868953f4e21cf4f02d1e26445be9bc3682f1c864cc16d701e\n",
            "  Stored in directory: /root/.cache/pip/wheels/d2/10/44/6abfb1234298806a145fd6bcaec8cbc712e88dd1cd6cb242fa\n",
            "Successfully built nrclex\n",
            "Installing collected packages: nrclex\n",
            "Successfully installed nrclex-3.0.0\n"
          ]
        }
      ]
    },
    {
      "cell_type": "code",
      "source": [
        "import nltk\n",
        "nltk.download('punkt')"
      ],
      "metadata": {
        "colab": {
          "base_uri": "https://localhost:8080/"
        },
        "id": "b3RLGJ961Yo9",
        "outputId": "7f349017-bf35-4a8d-c9cd-42c161364c16"
      },
      "execution_count": 2,
      "outputs": [
        {
          "output_type": "stream",
          "name": "stderr",
          "text": [
            "[nltk_data] Downloading package punkt to /root/nltk_data...\n",
            "[nltk_data]   Unzipping tokenizers/punkt.zip.\n"
          ]
        },
        {
          "output_type": "execute_result",
          "data": {
            "text/plain": [
              "True"
            ]
          },
          "metadata": {},
          "execution_count": 2
        }
      ]
    },
    {
      "cell_type": "code",
      "execution_count": 3,
      "metadata": {
        "id": "_ieOz6kPz4sb"
      },
      "outputs": [],
      "source": [
        "from nrclex import NRCLex\n",
        "\n",
        "import numpy as np\n",
        "import pandas as pd"
      ]
    },
    {
      "cell_type": "code",
      "source": [
        "#assign emotion\n",
        "text=\"you are charmingly beautiful\"\n",
        "#create object\n",
        "emotion = NRCLex(text)\n",
        "#using methods to classify emotions\n",
        "print('\\n', emotion.words)\n",
        "print('\\n', emotion.affect_dict)"
      ],
      "metadata": {
        "colab": {
          "base_uri": "https://localhost:8080/"
        },
        "id": "OM9j6r960MvY",
        "outputId": "be2ecf6f-9604-4050-f2c0-2ba6d643fddd"
      },
      "execution_count": 4,
      "outputs": [
        {
          "output_type": "stream",
          "name": "stdout",
          "text": [
            "\n",
            " ['you', 'are', 'charmingly', 'beautiful']\n",
            "\n",
            " {'beautiful': ['joy', 'positive']}\n"
          ]
        }
      ]
    },
    {
      "cell_type": "code",
      "source": [
        "print('\\n', emotion.top_emotions)"
      ],
      "metadata": {
        "colab": {
          "base_uri": "https://localhost:8080/"
        },
        "id": "9WQWy2mX1eoc",
        "outputId": "9190af54-ce30-4d05-b612-9188a987a528"
      },
      "execution_count": 5,
      "outputs": [
        {
          "output_type": "stream",
          "name": "stdout",
          "text": [
            "\n",
            " [('positive', 0.5), ('joy', 0.5)]\n"
          ]
        }
      ]
    },
    {
      "cell_type": "code",
      "source": [
        "print('\\n', emotion.affect_frequencies)"
      ],
      "metadata": {
        "colab": {
          "base_uri": "https://localhost:8080/"
        },
        "id": "l7JMzr7t10rk",
        "outputId": "3d9e781c-8dec-4dd2-83c1-2b90958bcff2"
      },
      "execution_count": 6,
      "outputs": [
        {
          "output_type": "stream",
          "name": "stdout",
          "text": [
            "\n",
            " {'fear': 0.0, 'anger': 0.0, 'anticip': 0.0, 'trust': 0.0, 'surprise': 0.0, 'positive': 0.5, 'negative': 0.0, 'sadness': 0.0, 'disgust': 0.0, 'joy': 0.5}\n"
          ]
        }
      ]
    },
    {
      "cell_type": "code",
      "source": [
        "\n",
        "def suggest_colors(emotion_dict):\n",
        "    \"\"\"Suggests colors based on dominant emotions.\"\"\"\n",
        "    color_palette = {\n",
        "        'joy': ['#FFD700', '#FFC0CB'],  # Gold, Pink\n",
        "        'trust': ['#ADD8E6', '#87CEFA'],  # Light Blue, Sky Blue\n",
        "        'fear': ['#A0522D', '#8B4513'],  # Sienna, Saddle Brown\n",
        "        'surprise': ['#FFA500', '#FFD700'], # Orange, Gold\n",
        "        'sadness': ['#4682B4', '#6495ED'], # Steel Blue, Cornflower Blue\n",
        "        'disgust': ['#808080', '#A9A9A9'], # Gray, Dark Gray\n",
        "        'anger': ['#DC143C', '#FF0000'],  # Crimson, Red\n",
        "        'anticipation': ['#90EE90', '#00FF7F'], # Light Green, Spring Green\n",
        "    }\n",
        "\n",
        "    suggested_colors = []\n",
        "    sorted_emotions = sorted(emotion_dict.items(), key=lambda item: item[1], reverse=True)\n",
        "\n",
        "    for emotion, score in sorted_emotions:\n",
        "        if emotion in color_palette and score > 0:\n",
        "          suggested_colors.extend(color_palette[emotion])\n",
        "\n",
        "    return suggested_colors[:3] # Return top 3 colors\n",
        "\n",
        "# Example usage (assuming emotion.top_emotions is available)\n",
        "top_emotions = emotion.top_emotions\n",
        "colors = suggest_colors(dict(top_emotions))\n",
        "print(\"\\nSuggested Colors:\", colors)"
      ],
      "metadata": {
        "id": "c9E995tj2LEq",
        "colab": {
          "base_uri": "https://localhost:8080/"
        },
        "outputId": "f0c175bc-fbed-4bab-ea63-46f339c0a592"
      },
      "execution_count": 8,
      "outputs": [
        {
          "output_type": "stream",
          "name": "stdout",
          "text": [
            "\n",
            "Suggested Colors: ['#FFD700', '#FFC0CB']\n"
          ]
        }
      ]
    }
  ]
}